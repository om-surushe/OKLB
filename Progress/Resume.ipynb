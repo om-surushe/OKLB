{
 "cells": [
  {
   "cell_type": "code",
   "execution_count": 42,
   "metadata": {},
   "outputs": [],
   "source": [
    "import aspose.words as aw\n",
    "import re\n",
    "import spacy\n",
    "from spacy import displacy"
   ]
  },
  {
   "cell_type": "code",
   "execution_count": 43,
   "metadata": {},
   "outputs": [],
   "source": [
    "# Loading pretrained model\n",
    "nlp = spacy.load(\"en_core_web_lg\")\n",
    "\n",
    "#jsonl file \n",
    "skills = \"jz_skill_patterns.jsonl\"\n",
    "\n",
    "#Adding pipe to pretrianed model\n",
    "ruler = nlp.add_pipe(\"entity_ruler\", before=\"ner\")\n",
    "\n",
    "# For skills extraction\n",
    "ruler.from_disk(skills)\n",
    "\n",
    "# For email and mobile extraction\n",
    "patterns = [\n",
    "    {\"label\": \"EMAIL\", \"pattern\": [{\"TEXT\": {\"REGEX\": \"([^@|\\s]+@[^@]+\\.[^@|\\s]+)\"}}]},\n",
    "    {\"label\": \"MOBILE\", \"pattern\": [{\"TEXT\": {\"REGEX\": \"\\d{3}[-\\.\\s]??\\d{3}[-\\.\\s]??\\d{4}|\\(\\d{3}\\)\\s*\\d{3}[-\\.\\s]??\\d{4}|\\d{3}[-\\.\\s]??\\d{4}\"}}]}\n",
    "    ]\n",
    "\n",
    "ruler.add_patterns(patterns)"
   ]
  },
  {
   "cell_type": "code",
   "execution_count": 53,
   "metadata": {},
   "outputs": [],
   "source": [
    "doc = aw.Document(\"./Om_Surushe_CV.pdf\")"
   ]
  },
  {
   "cell_type": "code",
   "execution_count": 54,
   "metadata": {},
   "outputs": [],
   "source": [
    "resume = doc.to_string(aw.SaveFormat.TEXT)\n",
    "resume = resume.replace(\"Evaluation Only. Created with Aspose.Words. Copyright 2003-2022 Aspose Pty Ltd.\",'')\n",
    "resume = resume.replace(\"Created with an evaluation copy of Aspose.Words. To discover the full versions of our APIs please visit: https://products.aspose.com/words/\",'')\n",
    "resume = resume.strip()"
   ]
  },
  {
   "cell_type": "code",
   "execution_count": 55,
   "metadata": {},
   "outputs": [],
   "source": [
    "doc = nlp(resume)\n",
    "# displacy.render(doc, style=\"ent\", jupyter=True)"
   ]
  },
  {
   "cell_type": "code",
   "execution_count": 56,
   "metadata": {},
   "outputs": [
    {
     "name": "stdout",
     "output_type": "stream",
     "text": [
      "{'MOBILE': '9322699165', 'EMAIL': 'om.surushe20@vit.edu', 'SKILLS': ['Robot', 'Algorithms', 'Php', 'Html', 'Python', 'Data structures', 'Artificial intelligence', 'Operating system', 'Google', 'Commerce', 'Data science', 'Software', 'Css', 'Languages', 'C++', 'Mobile', 'Github', 'Flutter', 'Interaction', 'Finance', 'Java', 'Javascript', 'Data processing']}\n"
     ]
    }
   ],
   "source": [
    "dict = {}\n",
    "skills = []\n",
    "\n",
    "#extract entities\n",
    "i = 0\n",
    "for ent in doc.ents:\n",
    "    if ent.label_=='EMAIL':\n",
    "        dict['EMAIL'] = ent.text\n",
    "    if ent.label_=='MOBILE':\n",
    "        dict['MOBILE'] = ent.text\n",
    "    if ent.label_=='SKILL':\n",
    "        skills.append(ent.text)\n",
    "skills = [i.capitalize() for i in set([i.lower() for i in skills])] \n",
    "dict[\"SKILLS\"] = skills\n",
    "print(dict)"
   ]
  }
 ],
 "metadata": {
  "kernelspec": {
   "display_name": "Python 3.7.3 ('OKLB_EVN': venv)",
   "language": "python",
   "name": "python3"
  },
  "language_info": {
   "codemirror_mode": {
    "name": "ipython",
    "version": 3
   },
   "file_extension": ".py",
   "mimetype": "text/x-python",
   "name": "python",
   "nbconvert_exporter": "python",
   "pygments_lexer": "ipython3",
   "version": "3.7.3"
  },
  "orig_nbformat": 4,
  "vscode": {
   "interpreter": {
    "hash": "ab9c5b8c8eb72cf9c87ded10c3e07204bfa944f060751a931182f72c4c3618ec"
   }
  }
 },
 "nbformat": 4,
 "nbformat_minor": 2
}
