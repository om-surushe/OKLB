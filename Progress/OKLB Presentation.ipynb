{
 "cells": [
  {
   "cell_type": "markdown",
   "metadata": {},
   "source": [
    "# Getting the Data"
   ]
  },
  {
   "cell_type": "markdown",
   "metadata": {},
   "source": [
    "# importing the packages"
   ]
  },
  {
   "cell_type": "code",
   "execution_count": 6,
   "metadata": {},
   "outputs": [],
   "source": [
    "import aspose.words as aw\n",
    "import spacy\n",
    "import csv\n",
    "import random\n",
    "from Questgen import main"
   ]
  },
  {
   "cell_type": "markdown",
   "metadata": {},
   "source": [
    "# Load the PDF document from the disc."
   ]
  },
  {
   "cell_type": "code",
   "execution_count": 7,
   "metadata": {},
   "outputs": [],
   "source": [
    "doc = aw.Document(\"./r2.docx\")"
   ]
  },
  {
   "cell_type": "markdown",
   "metadata": {},
   "source": [
    "# Getting the data"
   ]
  },
  {
   "cell_type": "code",
   "execution_count": 8,
   "metadata": {},
   "outputs": [
    {
     "name": "stdout",
     "output_type": "stream",
     "text": [
      "Vaishnavi Narkhede                                                          \n",
      "\n",
      " Vaishnavi.narkhede20@vit.edu |   +91-9356188686 |   Pune, India |  Profile Link | \n",
      "\t\t\t\t\n",
      "\n",
      "EDUCATION \n",
      " \n",
      "97%8e Boardnu Mahajan Vidyalaya, MalkapurSem IV\n",
      "SKILLS\n",
      "    go\n",
      "INTERNSHIP\n",
      "\n",
      "Aarshiti Group Web - Intern\t\t\t\t\t\t\t\t                 Sep ’21 – Jan’22\n",
      "Prototyped and developed a blogging website to share career-related opportunities using HTML, CSS, JavaScript, Django, SQLite\n",
      "Created database and worked on the Database Modelling\n",
      "\n",
      "ACADEMIC PROJECTS\n",
      "\n",
      "AR VR Research Project\t\t\t\t\t\t\t\t\t\tJun’ 21 to Aug’ 21\n",
      "Researched the use cases and advantages of using AR VR in domains like Education (Biology) and Military.\n",
      "Published the research paper in IJSART - Volume 7 Issue 11, November 2021.\n",
      "VishwaSocial\t\t\t\t\t\t\t\t\t                            Sep’ 21 to Present\n",
      "Developing a collaborative learning platform for college students, teachers, and alumni to network, learn new skills, and exchange opportunities.\n",
      "Tech – Stack: Developed a web application using HTML, CSS, JavaScript, and Django for the backend.\n",
      "Soul Space\t\t\t\t\t\t\t\t\t                            Sep’ 21 to Jan’ 2022\n",
      "Developed a web app to help youngsters understand their mental health and take actions to nuetrakkuze their mood and feel better.\n",
      "Tech – Stack: Developed a web application using HTML, CSS, JavaScript, and Django for the backend.\n",
      " Zipper\t\t\t\t\t\t\t\t\t                                          Sep’ 21 to Jan’ 21\n",
      "Developed a text compressor using Huffman coding, max heaps and priority queues \n",
      "Integrated with Django for developing a web application for the ease of the user.\n",
      "\n",
      "CO-CURRICULAR ACTIVITIES \n",
      "\n",
      "ACR: First Year.\n",
      "Quiz Activity Head: This is the initiative taken by me to provide MCQs on every topic particularly for python subjects. Under the guidance of Pinki Agarwal mam. It helps all the students of the class as well as of other divisions.\n",
      "Codzest Competition: Ranked 14. The coding competition held by IEEE. Received the certificate of participation.\n",
      "Avenir: Web Development Competition. This is the competition held by IEEE. We have given one topic on which we have to develop a website. Received the certificate of appreciation.\n",
      "\n",
      "POSITION OF RESPONSIBILITIES\n",
      "Abhivriddi – Student Training and Development Cell, VIT Pune\t\t\t\tAug’ 15 – Present\n",
      "Organized, planned & managed Mock Group Discussion & Personal Interview Program, an event with a footfall of 50+ students & 10+ industry experts which aims to provide a real-time experience of the campus recruitment process to third-year students.\n",
      "Drafted and assisted in making detailed reports of 5+ student training and development events. \n",
      "Social Welfare and Development Committee\t\t\t\t\t\tAug ’16 – Present\n",
      "Designed and developed a curriculum in 3 languages for a Digital Literacy program Aatmabodh, where college students taught 500+ women and senior citizens pan India to use apps like Google Pay, YouTube, MS Word, MS PowerPoint etc.\n",
      "Led a team of 9 volunteers who spread awareness about self-safety measures to 60+ individuals.\n",
      "Diva – Women Empowerment \t\t\t\t\t                                            Aug ’12 – Present\n",
      "Designed 20+ graphic posters and flyers for Women Empowerment and related events using Canva.\n",
      "Planned, organized and moderated an event, where college alumni shared their professional journey and inspire college students to encash better career opportunities.\n",
      "HOBBIES & INTERESTS\n",
      "Eassy Writing\n",
      "Painting\n",
      "Listening the music\n"
     ]
    }
   ],
   "source": [
    "resume = doc.to_string(aw.SaveFormat.TEXT)\n",
    "resume = resume.replace(\"Evaluation Only. Created with Aspose.Words. Copyright 2003-2022 Aspose Pty Ltd.\",'')\n",
    "resume = resume.replace(\"Created with an evaluation copy of Aspose.Words. To discover the full versions of our APIs please visit: https://products.aspose.com/words/\",'')\n",
    "resume = resume.strip()\n",
    "print(resume)"
   ]
  },
  {
   "cell_type": "code",
   "execution_count": 9,
   "metadata": {},
   "outputs": [],
   "source": [
    "nlp = spacy.load(\"en_core_web_lg\")"
   ]
  },
  {
   "cell_type": "code",
   "execution_count": 10,
   "metadata": {},
   "outputs": [
    {
     "name": "stdout",
     "output_type": "stream",
     "text": [
      "['20. Describe a time when you put your needs aside to help a co-worker understand a task. How did you assist them? What was the result?\\n', 'The key is to show that the mentoring of a co-worker was first a higher priority than the task you had at hand (remember, you want to show that you focus on highest priority tasks first). Then, describe in detail how you helped them not only complete the task but learn to do it on their own. You want to teach them HOW to fish and not to simply fish for them.\\n']\n",
      "\n",
      "['279. Describe a situation in which you had to use reference materials to write a research paper. What was the topic? What journals did you read?\\n', 'This question is designed to see what your research methods are. Explain how you organize your research and what types of materials you use.\\n']\n",
      "\n",
      "['384. Have you ever hired anyone? Why did you choose them?\\n', 'When you are hiring someone, typically you look for strong characteristics like integrity, work ethic, diligence, potential and so forth. Most importantly highlight how you felt the hiring would impact the company for the better.\\n']\n",
      "\n",
      "['406. If you could choose one superhero power, what would it be and why?\\n', 'Have fun with the answer, just make sure you back up your answer with a genuine reason.\\n']\n",
      "\n"
     ]
    }
   ],
   "source": [
    "total = []\n",
    "\n",
    "with open(\"../Data/HR/type1.csv\", 'r') as file:\n",
    "    csvreader = list(csv.reader(file))\n",
    "    total.append(csvreader[random.randint(0,len(csvreader)-1)])\n",
    "with open(\"../Data/HR/type2.csv\", 'r') as file:\n",
    "    csvreader = list(csv.reader(file))\n",
    "    total.append(csvreader[random.randint(0,len(csvreader)-1)])\n",
    "with open(\"../Data/HR/type3.csv\", 'r') as file:\n",
    "    csvreader = list(csv.reader(file))\n",
    "    total.append(csvreader[random.randint(0,len(csvreader)-1)])\n",
    "with open(\"../Data/HR/type4.csv\", 'r') as file:\n",
    "    csvreader = list(csv.reader(file))\n",
    "    total.append(csvreader[random.randint(0,len(csvreader)-1)])\n",
    "\n",
    "for row in total:\n",
    "    print(row)\n",
    "    print()"
   ]
  },
  {
   "cell_type": "code",
   "execution_count": 11,
   "metadata": {},
   "outputs": [],
   "source": [
    "ans_res = []\n",
    "res = []\n",
    "\n",
    "for i in range(len(total)):\n",
    "    res.append(str(input(total[i][0])))"
   ]
  },
  {
   "cell_type": "code",
   "execution_count": 12,
   "metadata": {},
   "outputs": [],
   "source": [
    "for i in range(len(total)):\n",
    "    ans_res.append([nlp(total[i][1]),nlp(res[i])])"
   ]
  },
  {
   "cell_type": "code",
   "execution_count": 13,
   "metadata": {},
   "outputs": [
    {
     "name": "stdout",
     "output_type": "stream",
     "text": [
      "0.17116368321283582\n",
      "0.23480189759705414\n",
      "0.2111200335213874\n",
      "0.2737433949876086\n"
     ]
    }
   ],
   "source": [
    "for i in range(len(ans_res)):\n",
    "    print(ans_res[i][0].similarity(ans_res[i][1]))"
   ]
  },
  {
   "cell_type": "code",
   "execution_count": 14,
   "metadata": {},
   "outputs": [],
   "source": [
    "payload = {\n",
    "            \"input_text\": resume\n",
    "        }"
   ]
  },
  {
   "cell_type": "code",
   "execution_count": 16,
   "metadata": {},
   "outputs": [
    {
     "name": "stderr",
     "output_type": "stream",
     "text": [
      "Token indices sequence length is longer than the specified maximum sequence length for this model (535 > 512). Running this sequence through the model will result in indexing errors\n"
     ]
    },
    {
     "name": "stdout",
     "output_type": "stream",
     "text": [
      "Running model for generation\n",
      "{'questions': [{'Question': 'What is the best tool to develop a text compressor using?', 'Answer': 'django', 'id': 1, 'context': 'Vaishnavi Narkhede                                                          \\r\\n\\r\\n Vaishnavi.narkhede20@vit.edu |   +91-9356188686 |   Pune, India |  Profile Link | \\r\\n\\t\\t\\t\\t\\r\\n\\r\\nEDUCATION \\r\\n \\r\\nCourse\\rInstitute\\rBoard/University\\rYear \\rScore\\rArtificial Intelligence and Data Science Sem IV\\rVishwakarma Institute of Technology\\rAutonomous\\r2020 - Present\\r9.34\\r12th\\rNutan Junior College, Malkapur\\rState Board\\r2020\\r88%\\r10th\\rGovind Vishnu Mahajan Vidyalaya, Malkapur\\rState Board\\r2018\\r97%\\r\\r\\nSKILLS\\r\\nC/C++\\rPython\\rJava\\rDjango\\r\\r\\r    \\r\\r\\r\\r\\nINTERNSHIP\\r\\n\\r\\nAarshiti Group Web - Intern\\t\\t\\t\\t\\t\\t\\t\\t                 Sep ’21 – Jan’22\\r\\nPrototyped and developed a blogging website to share career-related opportunities using HTML, CSS, JavaScript, Django, SQLite\\r\\nCreated database and worked on the Database Modelling\\r\\n\\r\\nACADEMIC PROJECTS\\r\\n\\r\\nAR VR Research Project\\t\\t\\t\\t\\t\\t\\t\\t\\t\\tJun’ 21 to Aug’ 21\\r\\nResearched the use cases and advantages of using AR VR in domains like Education (Biology) and Military. Vaishnavi Narkhede                                                          \\r\\n\\r\\n Vaishnavi.narkhede20@vit.edu |   +91-9356188686 |   Pune, India |  Profile Link | \\r\\n\\t\\t\\t\\t\\r\\n\\r\\nEDUCATION \\r\\n \\r\\nCourse\\rInstitute\\rBoard/University\\rYear \\rScore\\rArtificial Intelligence and Data Science Sem IV\\rVishwakarma Institute of Technology\\rAutonomous\\r2020 - Present\\r9.34\\r12th\\rNutan Junior College, Malkapur\\rState Board\\r2020\\r88%\\r10th\\rGovind Vishnu Mahajan Vidyalaya, Malkapur\\rState Board\\r2018\\r97%\\r\\r\\nSKILLS\\r\\nC/C++\\rPython\\rJava\\rDjango\\r\\r\\r    \\r\\r\\r\\r\\nINTERNSHIP\\r\\n\\r\\nAarshiti Group Web - Intern\\t\\t\\t\\t\\t\\t\\t\\t                 Sep ’21 – Jan’22\\r\\nPrototyped and developed a blogging website to share career-related opportunities using HTML, CSS, JavaScript, Django, SQLite\\r\\nCreated database and worked on the Database Modelling\\r\\n\\r\\nACADEMIC PROJECTS\\r\\n\\r\\nAR VR Research Project\\t\\t\\t\\t\\t\\t\\t\\t\\t\\tJun’ 21 to Aug’ 21\\r\\nResearched the use cases and advantages of using AR VR in domains like Education (Biology) and Military. Zipper\\t\\t\\t\\t\\t\\t\\t\\t\\t                                          Sep’ 21 to Jan’ 21\\r\\nDeveloped a text compressor using Huffman coding, max heaps and priority queues \\r\\nIntegrated with Django for developing a web application for the ease of the user.'}, {'Question': 'Who taught 500+ women and senior citizens pan India to use apps like Google Pay, YouTube, MS Word, MS PowerPoint etc.?', 'Answer': 'college students', 'id': 2, 'context': 'Social Welfare and Development Committee\\t\\t\\t\\t\\t\\tAug ’16 – Present\\r\\nDesigned and developed a curriculum in 3 languages for a Digital Literacy program Aatmabodh, where college students taught 500+ women and senior citizens pan India to use apps like Google Pay, YouTube, MS Word, MS PowerPoint etc. VishwaSocial\\t\\t\\t\\t\\t\\t\\t\\t\\t                            Sep’ 21 to Present\\r\\nDeveloping a collaborative learning platform for college students, teachers, and alumni to network, learn new skills, and exchange opportunities. Planned, organized and moderated an event, where college alumni shared their professional journey and inspire college students to encash better career opportunities.'}, {'Question': 'What is the year of the Vishwakarma Institute of Technology Autonomous 2020 - Present?', 'Answer': 'sep', 'id': 3, 'context': 'Vaishnavi Narkhede                                                          \\r\\n\\r\\n Vaishnavi.narkhede20@vit.edu |   +91-9356188686 |   Pune, India |  Profile Link | \\r\\n\\t\\t\\t\\t\\r\\n\\r\\nEDUCATION \\r\\n \\r\\nCourse\\rInstitute\\rBoard/University\\rYear \\rScore\\rArtificial Intelligence and Data Science Sem IV\\rVishwakarma Institute of Technology\\rAutonomous\\r2020 - Present\\r9.34\\r12th\\rNutan Junior College, Malkapur\\rState Board\\r2020\\r88%\\r10th\\rGovind Vishnu Mahajan Vidyalaya, Malkapur\\rState Board\\r2018\\r97%\\r\\r\\nSKILLS\\r\\nC/C++\\rPython\\rJava\\rDjango\\r\\r\\r    \\r\\r\\r\\r\\nINTERNSHIP\\r\\n\\r\\nAarshiti Group Web - Intern\\t\\t\\t\\t\\t\\t\\t\\t                 Sep ’21 – Jan’22\\r\\nPrototyped and developed a blogging website to share career-related opportunities using HTML, CSS, JavaScript, Django, SQLite\\r\\nCreated database and worked on the Database Modelling\\r\\n\\r\\nACADEMIC PROJECTS\\r\\n\\r\\nAR VR Research Project\\t\\t\\t\\t\\t\\t\\t\\t\\t\\tJun’ 21 to Aug’ 21\\r\\nResearched the use cases and advantages of using AR VR in domains like Education (Biology) and Military. Zipper\\t\\t\\t\\t\\t\\t\\t\\t\\t                                          Sep’ 21 to Jan’ 21\\r\\nDeveloped a text compressor using Huffman coding, max heaps and priority queues \\r\\nIntegrated with Django for developing a web application for the ease of the user. VishwaSocial\\t\\t\\t\\t\\t\\t\\t\\t\\t                            Sep’ 21 to Present\\r\\nDeveloping a collaborative learning platform for college students, teachers, and alumni to network, learn new skills, and exchange opportunities.'}]}\n"
     ]
    }
   ],
   "source": [
    "qg = main.QGen()\n",
    "output = qg.predict_shortq(payload)"
   ]
  },
  {
   "cell_type": "code",
   "execution_count": 17,
   "metadata": {},
   "outputs": [],
   "source": [
    "ques_list = []\n",
    "\n",
    "for i in output['questions']:\n",
    "    ques_list.append(i['Question'])"
   ]
  },
  {
   "cell_type": "code",
   "execution_count": 18,
   "metadata": {},
   "outputs": [
    {
     "name": "stdout",
     "output_type": "stream",
     "text": [
      "ques:  What is the best tool to develop a text compressor using?\n",
      "\n",
      "ques:  Who taught 500+ women and senior citizens pan India to use apps like Google Pay, YouTube, MS Word, MS PowerPoint etc.?\n",
      "\n",
      "ques:  What is the year of the Vishwakarma Institute of Technology Autonomous 2020 - Present?\n",
      "\n"
     ]
    }
   ],
   "source": [
    "for i in range(len(ques_list)):\n",
    "    print(\"ques: \",ques_list[i])\n",
    "    print()"
   ]
  }
 ],
 "metadata": {
  "kernelspec": {
   "display_name": "Python 3.7.3 ('OKLB_EVN')",
   "language": "python",
   "name": "python3"
  },
  "language_info": {
   "codemirror_mode": {
    "name": "ipython",
    "version": 3
   },
   "file_extension": ".py",
   "mimetype": "text/x-python",
   "name": "python",
   "nbconvert_exporter": "python",
   "pygments_lexer": "ipython3",
   "version": "3.7.3"
  },
  "orig_nbformat": 4,
  "vscode": {
   "interpreter": {
    "hash": "6b89ee3d688a4a246652f6f5bf0772a7d33c5c61b63292bacbe213bb5a4463f7"
   }
  }
 },
 "nbformat": 4,
 "nbformat_minor": 2
}
