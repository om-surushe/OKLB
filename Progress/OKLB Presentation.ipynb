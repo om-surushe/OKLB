{
 "cells": [
  {
   "cell_type": "markdown",
   "metadata": {},
   "source": [
    "# Getting the Data"
   ]
  },
  {
   "cell_type": "markdown",
   "metadata": {},
   "source": [
    "# importing the packages"
   ]
  },
  {
   "cell_type": "code",
   "execution_count": 1,
   "metadata": {},
   "outputs": [
    {
     "name": "stderr",
     "output_type": "stream",
     "text": [
      "c:\\Users\\omsur\\OneDrive\\Documents\\Python\\OKLB\\OKLB_EVN\\lib\\site-packages\\tqdm\\auto.py:22: TqdmWarning: IProgress not found. Please update jupyter and ipywidgets. See https://ipywidgets.readthedocs.io/en/stable/user_install.html\n",
      "  from .autonotebook import tqdm as notebook_tqdm\n",
      "[nltk_data] Downloading package brown to\n",
      "[nltk_data]     C:\\Users\\omsur\\AppData\\Roaming\\nltk_data...\n",
      "[nltk_data]   Package brown is already up-to-date!\n",
      "[nltk_data] Downloading package stopwords to\n",
      "[nltk_data]     C:\\Users\\omsur\\AppData\\Roaming\\nltk_data...\n",
      "[nltk_data]   Package stopwords is already up-to-date!\n",
      "[nltk_data] Downloading collection 'popular'\n",
      "[nltk_data]    | \n",
      "[nltk_data]    | Downloading package cmudict to\n",
      "[nltk_data]    |     C:\\Users\\omsur\\AppData\\Roaming\\nltk_data...\n",
      "[nltk_data]    |   Package cmudict is already up-to-date!\n",
      "[nltk_data]    | Downloading package gazetteers to\n",
      "[nltk_data]    |     C:\\Users\\omsur\\AppData\\Roaming\\nltk_data...\n",
      "[nltk_data]    |   Package gazetteers is already up-to-date!\n",
      "[nltk_data]    | Downloading package genesis to\n",
      "[nltk_data]    |     C:\\Users\\omsur\\AppData\\Roaming\\nltk_data...\n",
      "[nltk_data]    |   Package genesis is already up-to-date!\n",
      "[nltk_data]    | Downloading package gutenberg to\n",
      "[nltk_data]    |     C:\\Users\\omsur\\AppData\\Roaming\\nltk_data...\n",
      "[nltk_data]    |   Package gutenberg is already up-to-date!\n",
      "[nltk_data]    | Downloading package inaugural to\n",
      "[nltk_data]    |     C:\\Users\\omsur\\AppData\\Roaming\\nltk_data...\n",
      "[nltk_data]    |   Package inaugural is already up-to-date!\n",
      "[nltk_data]    | Downloading package movie_reviews to\n",
      "[nltk_data]    |     C:\\Users\\omsur\\AppData\\Roaming\\nltk_data...\n",
      "[nltk_data]    |   Package movie_reviews is already up-to-date!\n",
      "[nltk_data]    | Downloading package names to\n",
      "[nltk_data]    |     C:\\Users\\omsur\\AppData\\Roaming\\nltk_data...\n",
      "[nltk_data]    |   Package names is already up-to-date!\n",
      "[nltk_data]    | Downloading package shakespeare to\n",
      "[nltk_data]    |     C:\\Users\\omsur\\AppData\\Roaming\\nltk_data...\n",
      "[nltk_data]    |   Package shakespeare is already up-to-date!\n",
      "[nltk_data]    | Downloading package stopwords to\n",
      "[nltk_data]    |     C:\\Users\\omsur\\AppData\\Roaming\\nltk_data...\n",
      "[nltk_data]    |   Package stopwords is already up-to-date!\n",
      "[nltk_data]    | Downloading package treebank to\n",
      "[nltk_data]    |     C:\\Users\\omsur\\AppData\\Roaming\\nltk_data...\n",
      "[nltk_data]    |   Package treebank is already up-to-date!\n",
      "[nltk_data]    | Downloading package twitter_samples to\n",
      "[nltk_data]    |     C:\\Users\\omsur\\AppData\\Roaming\\nltk_data...\n",
      "[nltk_data]    |   Package twitter_samples is already up-to-date!\n",
      "[nltk_data]    | Downloading package omw to\n",
      "[nltk_data]    |     C:\\Users\\omsur\\AppData\\Roaming\\nltk_data...\n",
      "[nltk_data]    |   Package omw is already up-to-date!\n",
      "[nltk_data]    | Downloading package omw-1.4 to\n",
      "[nltk_data]    |     C:\\Users\\omsur\\AppData\\Roaming\\nltk_data...\n",
      "[nltk_data]    |   Package omw-1.4 is already up-to-date!\n",
      "[nltk_data]    | Downloading package wordnet to\n",
      "[nltk_data]    |     C:\\Users\\omsur\\AppData\\Roaming\\nltk_data...\n",
      "[nltk_data]    |   Package wordnet is already up-to-date!\n",
      "[nltk_data]    | Downloading package wordnet2021 to\n",
      "[nltk_data]    |     C:\\Users\\omsur\\AppData\\Roaming\\nltk_data...\n",
      "[nltk_data]    |   Package wordnet2021 is already up-to-date!\n",
      "[nltk_data]    | Downloading package wordnet31 to\n",
      "[nltk_data]    |     C:\\Users\\omsur\\AppData\\Roaming\\nltk_data...\n",
      "[nltk_data]    |   Package wordnet31 is already up-to-date!\n",
      "[nltk_data]    | Downloading package wordnet_ic to\n",
      "[nltk_data]    |     C:\\Users\\omsur\\AppData\\Roaming\\nltk_data...\n",
      "[nltk_data]    |   Package wordnet_ic is already up-to-date!\n",
      "[nltk_data]    | Downloading package words to\n",
      "[nltk_data]    |     C:\\Users\\omsur\\AppData\\Roaming\\nltk_data...\n",
      "[nltk_data]    |   Package words is already up-to-date!\n",
      "[nltk_data]    | Downloading package maxent_ne_chunker to\n",
      "[nltk_data]    |     C:\\Users\\omsur\\AppData\\Roaming\\nltk_data...\n",
      "[nltk_data]    |   Package maxent_ne_chunker is already up-to-date!\n",
      "[nltk_data]    | Downloading package punkt to\n",
      "[nltk_data]    |     C:\\Users\\omsur\\AppData\\Roaming\\nltk_data...\n",
      "[nltk_data]    |   Package punkt is already up-to-date!\n",
      "[nltk_data]    | Downloading package snowball_data to\n",
      "[nltk_data]    |     C:\\Users\\omsur\\AppData\\Roaming\\nltk_data...\n",
      "[nltk_data]    |   Package snowball_data is already up-to-date!\n",
      "[nltk_data]    | Downloading package averaged_perceptron_tagger to\n",
      "[nltk_data]    |     C:\\Users\\omsur\\AppData\\Roaming\\nltk_data...\n",
      "[nltk_data]    |   Package averaged_perceptron_tagger is already up-\n",
      "[nltk_data]    |       to-date!\n",
      "[nltk_data]    | \n",
      "[nltk_data]  Done downloading collection popular\n",
      "[nltk_data] Downloading package brown to\n",
      "[nltk_data]     C:\\Users\\omsur\\AppData\\Roaming\\nltk_data...\n",
      "[nltk_data]   Package brown is already up-to-date!\n",
      "[nltk_data] Downloading package stopwords to\n",
      "[nltk_data]     C:\\Users\\omsur\\AppData\\Roaming\\nltk_data...\n",
      "[nltk_data]   Package stopwords is already up-to-date!\n",
      "[nltk_data] Downloading collection 'popular'\n",
      "[nltk_data]    | \n",
      "[nltk_data]    | Downloading package cmudict to\n",
      "[nltk_data]    |     C:\\Users\\omsur\\AppData\\Roaming\\nltk_data...\n",
      "[nltk_data]    |   Package cmudict is already up-to-date!\n",
      "[nltk_data]    | Downloading package gazetteers to\n",
      "[nltk_data]    |     C:\\Users\\omsur\\AppData\\Roaming\\nltk_data...\n",
      "[nltk_data]    |   Package gazetteers is already up-to-date!\n",
      "[nltk_data]    | Downloading package genesis to\n",
      "[nltk_data]    |     C:\\Users\\omsur\\AppData\\Roaming\\nltk_data...\n",
      "[nltk_data]    |   Package genesis is already up-to-date!\n",
      "[nltk_data]    | Downloading package gutenberg to\n",
      "[nltk_data]    |     C:\\Users\\omsur\\AppData\\Roaming\\nltk_data...\n",
      "[nltk_data]    |   Package gutenberg is already up-to-date!\n",
      "[nltk_data]    | Downloading package inaugural to\n",
      "[nltk_data]    |     C:\\Users\\omsur\\AppData\\Roaming\\nltk_data...\n",
      "[nltk_data]    |   Package inaugural is already up-to-date!\n",
      "[nltk_data]    | Downloading package movie_reviews to\n",
      "[nltk_data]    |     C:\\Users\\omsur\\AppData\\Roaming\\nltk_data...\n",
      "[nltk_data]    |   Package movie_reviews is already up-to-date!\n",
      "[nltk_data]    | Downloading package names to\n",
      "[nltk_data]    |     C:\\Users\\omsur\\AppData\\Roaming\\nltk_data...\n",
      "[nltk_data]    |   Package names is already up-to-date!\n",
      "[nltk_data]    | Downloading package shakespeare to\n",
      "[nltk_data]    |     C:\\Users\\omsur\\AppData\\Roaming\\nltk_data...\n",
      "[nltk_data]    |   Package shakespeare is already up-to-date!\n",
      "[nltk_data]    | Downloading package stopwords to\n",
      "[nltk_data]    |     C:\\Users\\omsur\\AppData\\Roaming\\nltk_data...\n",
      "[nltk_data]    |   Package stopwords is already up-to-date!\n",
      "[nltk_data]    | Downloading package treebank to\n",
      "[nltk_data]    |     C:\\Users\\omsur\\AppData\\Roaming\\nltk_data...\n",
      "[nltk_data]    |   Package treebank is already up-to-date!\n",
      "[nltk_data]    | Downloading package twitter_samples to\n",
      "[nltk_data]    |     C:\\Users\\omsur\\AppData\\Roaming\\nltk_data...\n",
      "[nltk_data]    |   Package twitter_samples is already up-to-date!\n",
      "[nltk_data]    | Downloading package omw to\n",
      "[nltk_data]    |     C:\\Users\\omsur\\AppData\\Roaming\\nltk_data...\n",
      "[nltk_data]    |   Package omw is already up-to-date!\n",
      "[nltk_data]    | Downloading package omw-1.4 to\n",
      "[nltk_data]    |     C:\\Users\\omsur\\AppData\\Roaming\\nltk_data...\n",
      "[nltk_data]    |   Package omw-1.4 is already up-to-date!\n",
      "[nltk_data]    | Downloading package wordnet to\n",
      "[nltk_data]    |     C:\\Users\\omsur\\AppData\\Roaming\\nltk_data...\n",
      "[nltk_data]    |   Package wordnet is already up-to-date!\n",
      "[nltk_data]    | Downloading package wordnet2021 to\n",
      "[nltk_data]    |     C:\\Users\\omsur\\AppData\\Roaming\\nltk_data...\n",
      "[nltk_data]    |   Package wordnet2021 is already up-to-date!\n",
      "[nltk_data]    | Downloading package wordnet31 to\n",
      "[nltk_data]    |     C:\\Users\\omsur\\AppData\\Roaming\\nltk_data...\n",
      "[nltk_data]    |   Package wordnet31 is already up-to-date!\n",
      "[nltk_data]    | Downloading package wordnet_ic to\n",
      "[nltk_data]    |     C:\\Users\\omsur\\AppData\\Roaming\\nltk_data...\n",
      "[nltk_data]    |   Package wordnet_ic is already up-to-date!\n",
      "[nltk_data]    | Downloading package words to\n",
      "[nltk_data]    |     C:\\Users\\omsur\\AppData\\Roaming\\nltk_data...\n",
      "[nltk_data]    |   Package words is already up-to-date!\n",
      "[nltk_data]    | Downloading package maxent_ne_chunker to\n",
      "[nltk_data]    |     C:\\Users\\omsur\\AppData\\Roaming\\nltk_data...\n",
      "[nltk_data]    |   Package maxent_ne_chunker is already up-to-date!\n",
      "[nltk_data]    | Downloading package punkt to\n",
      "[nltk_data]    |     C:\\Users\\omsur\\AppData\\Roaming\\nltk_data...\n",
      "[nltk_data]    |   Package punkt is already up-to-date!\n",
      "[nltk_data]    | Downloading package snowball_data to\n",
      "[nltk_data]    |     C:\\Users\\omsur\\AppData\\Roaming\\nltk_data...\n",
      "[nltk_data]    |   Package snowball_data is already up-to-date!\n",
      "[nltk_data]    | Downloading package averaged_perceptron_tagger to\n",
      "[nltk_data]    |     C:\\Users\\omsur\\AppData\\Roaming\\nltk_data...\n",
      "[nltk_data]    |   Package averaged_perceptron_tagger is already up-\n",
      "[nltk_data]    |       to-date!\n",
      "[nltk_data]    | \n",
      "[nltk_data]  Done downloading collection popular\n"
     ]
    }
   ],
   "source": [
    "import aspose.words as aw\n",
    "import spacy\n",
    "import csv\n",
    "import random\n",
    "from Questgen import main"
   ]
  },
  {
   "cell_type": "markdown",
   "metadata": {},
   "source": [
    "# Load the PDF document from the disc."
   ]
  },
  {
   "cell_type": "code",
   "execution_count": 2,
   "metadata": {},
   "outputs": [],
   "source": [
    "doc = aw.Document(\"./r2.docx\")"
   ]
  },
  {
   "cell_type": "markdown",
   "metadata": {},
   "source": [
    "# Getting the data"
   ]
  },
  {
   "cell_type": "code",
   "execution_count": 3,
   "metadata": {},
   "outputs": [
    {
     "name": "stdout",
     "output_type": "stream",
     "text": [
      "Vaishnavi Narkhede                                                          \n",
      "\n",
      " Vaishnavi.narkhede20@vit.edu |   +91-9356188686 |   Pune, India |  Profile Link | \n",
      "\t\t\t\t\n",
      "\n",
      "EDUCATION \n",
      " \n",
      "97%8e Boardnu Mahajan Vidyalaya, MalkapurSem IV\n",
      "SKILLS\n",
      "    go\n",
      "INTERNSHIP\n",
      "\n",
      "Aarshiti Group Web - Intern\t\t\t\t\t\t\t\t                 Sep ’21 – Jan’22\n",
      "Prototyped and developed a blogging website to share career-related opportunities using HTML, CSS, JavaScript, Django, SQLite\n",
      "Created database and worked on the Database Modelling\n",
      "\n",
      "ACADEMIC PROJECTS\n",
      "\n",
      "AR VR Research Project\t\t\t\t\t\t\t\t\t\tJun’ 21 to Aug’ 21\n",
      "Researched the use cases and advantages of using AR VR in domains like Education (Biology) and Military.\n",
      "Published the research paper in IJSART - Volume 7 Issue 11, November 2021.\n",
      "VishwaSocial\t\t\t\t\t\t\t\t\t                            Sep’ 21 to Present\n",
      "Developing a collaborative learning platform for college students, teachers, and alumni to network, learn new skills, and exchange opportunities.\n",
      "Tech – Stack: Developed a web application using HTML, CSS, JavaScript, and Django for the backend.\n",
      "Soul Space\t\t\t\t\t\t\t\t\t                            Sep’ 21 to Jan’ 2022\n",
      "Developed a web app to help youngsters understand their mental health and take actions to nuetrakkuze their mood and feel better.\n",
      "Tech – Stack: Developed a web application using HTML, CSS, JavaScript, and Django for the backend.\n",
      " Zipper\t\t\t\t\t\t\t\t\t                                          Sep’ 21 to Jan’ 21\n",
      "Developed a text compressor using Huffman coding, max heaps and priority queues \n",
      "Integrated with Django for developing a web application for the ease of the user.\n",
      "\n",
      "CO-CURRICULAR ACTIVITIES \n",
      "\n",
      "ACR: First Year.\n",
      "Quiz Activity Head: This is the initiative taken by me to provide MCQs on every topic particularly for python subjects. Under the guidance of Pinki Agarwal mam. It helps all the students of the class as well as of other divisions.\n",
      "Codzest Competition: Ranked 14. The coding competition held by IEEE. Received the certificate of participation.\n",
      "Avenir: Web Development Competition. This is the competition held by IEEE. We have given one topic on which we have to develop a website. Received the certificate of appreciation.\n",
      "\n",
      "POSITION OF RESPONSIBILITIES\n",
      "Abhivriddi – Student Training and Development Cell, VIT Pune\t\t\t\tAug’ 15 – Present\n",
      "Organized, planned & managed Mock Group Discussion & Personal Interview Program, an event with a footfall of 50+ students & 10+ industry experts which aims to provide a real-time experience of the campus recruitment process to third-year students.\n",
      "Drafted and assisted in making detailed reports of 5+ student training and development events. \n",
      "Social Welfare and Development Committee\t\t\t\t\t\tAug ’16 – Present\n",
      "Designed and developed a curriculum in 3 languages for a Digital Literacy program Aatmabodh, where college students taught 500+ women and senior citizens pan India to use apps like Google Pay, YouTube, MS Word, MS PowerPoint etc.\n",
      "Led a team of 9 volunteers who spread awareness about self-safety measures to 60+ individuals.\n",
      "Diva – Women Empowerment \t\t\t\t\t                                            Aug ’12 – Present\n",
      "Designed 20+ graphic posters and flyers for Women Empowerment and related events using Canva.\n",
      "Planned, organized and moderated an event, where college alumni shared their professional journey and inspire college students to encash better career opportunities.\n",
      "HOBBIES & INTERESTS\n",
      "Eassy Writing\n",
      "Painting\n",
      "Listening the music\n"
     ]
    }
   ],
   "source": [
    "resume = doc.to_string(aw.SaveFormat.TEXT)\n",
    "resume = resume.replace(\"Evaluation Only. Created with Aspose.Words. Copyright 2003-2022 Aspose Pty Ltd.\",'')\n",
    "resume = resume.replace(\"Created with an evaluation copy of Aspose.Words. To discover the full versions of our APIs please visit: https://products.aspose.com/words/\",'')\n",
    "resume = resume.strip()\n",
    "print(resume)"
   ]
  },
  {
   "cell_type": "code",
   "execution_count": 4,
   "metadata": {},
   "outputs": [],
   "source": [
    "nlp = spacy.load(\"en_core_web_lg\")"
   ]
  },
  {
   "cell_type": "code",
   "execution_count": 5,
   "metadata": {},
   "outputs": [
    {
     "name": "stdout",
     "output_type": "stream",
     "text": [
      "['1. If the company you worked for was doing something unethical or illegal, what would you do?\\n', \"Report it to the leaders within the company. True leaders understand business ethics are important to the company's longevity\\n\"]\n",
      "\n",
      "['296. Describe a time when you took personal accountability for a conflict and initiated contact with the individual(s) involved to explain your actions.\\n', 'This question is designed to see how you handle conflict and to see whether you can move beyond it. The company also wants to know that you can take accountability and responsibility and not put it on someone else.\\n']\n",
      "\n",
      "['391. Describe your management style.\\n', \"Are you a micro manager? Are you a manager that empowers other people? If you're the latter, how do you do so? Do you set a clear goal for the team?\\n\"]\n",
      "\n",
      "['403. Sell me this pencil.\\n', \"First ask them to describe what they're looking for a pencil and why they want to buy it. Then utilize reasons that match those requirements to persuade them to buy the pencil. Close the statement by asking them if they'd be willing to buy it.\\n\"]\n",
      "\n"
     ]
    }
   ],
   "source": [
    "total = []\n",
    "\n",
    "with open(\"./type1.csv\", 'r') as file:\n",
    "    csvreader = list(csv.reader(file))\n",
    "    total.append(csvreader[random.randint(0,len(csvreader)-1)])\n",
    "with open(\"./type2.csv\", 'r') as file:\n",
    "    csvreader = list(csv.reader(file))\n",
    "    total.append(csvreader[random.randint(0,len(csvreader)-1)])\n",
    "with open(\"./type3.csv\", 'r') as file:\n",
    "    csvreader = list(csv.reader(file))\n",
    "    total.append(csvreader[random.randint(0,len(csvreader)-1)])\n",
    "with open(\"./type4.csv\", 'r') as file:\n",
    "    csvreader = list(csv.reader(file))\n",
    "    total.append(csvreader[random.randint(0,len(csvreader)-1)])\n",
    "\n",
    "for row in total:\n",
    "    print(row)\n",
    "    print()"
   ]
  },
  {
   "cell_type": "code",
   "execution_count": 6,
   "metadata": {},
   "outputs": [],
   "source": [
    "ans_res = []\n",
    "res = []\n",
    "\n",
    "for i in range(len(total)):\n",
    "    res.append(str(input(total[i][0])))"
   ]
  },
  {
   "cell_type": "code",
   "execution_count": 7,
   "metadata": {},
   "outputs": [],
   "source": [
    "for i in range(len(total)):\n",
    "    ans_res.append([nlp(total[i][1]),nlp(res[i])])"
   ]
  },
  {
   "cell_type": "code",
   "execution_count": 8,
   "metadata": {},
   "outputs": [
    {
     "name": "stdout",
     "output_type": "stream",
     "text": [
      "0.049972693919224674\n",
      "0.3449568810754896\n",
      "0.4686234354302728\n",
      "0.3623953782602499\n"
     ]
    }
   ],
   "source": [
    "for i in range(len(ans_res)):\n",
    "    print(ans_res[i][0].similarity(ans_res[i][1]))"
   ]
  },
  {
   "cell_type": "code",
   "execution_count": 9,
   "metadata": {},
   "outputs": [],
   "source": [
    "payload = {\n",
    "            \"input_text\": resume\n",
    "        }"
   ]
  },
  {
   "cell_type": "code",
   "execution_count": 10,
   "metadata": {},
   "outputs": [
    {
     "name": "stderr",
     "output_type": "stream",
     "text": [
      "Token indices sequence length is longer than the specified maximum sequence length for this model (535 > 512). Running this sequence through the model will result in indexing errors\n"
     ]
    },
    {
     "name": "stdout",
     "output_type": "stream",
     "text": [
      "Running model for generation\n",
      "{'questions': [{'Question': 'What is the best tool to develop a text compressor using?', 'Answer': 'django', 'id': 1, 'context': 'Vaishnavi Narkhede                                                          \\r\\n\\r\\n Vaishnavi.narkhede20@vit.edu |   +91-9356188686 |   Pune, India |  Profile Link | \\r\\n\\t\\t\\t\\t\\r\\n\\r\\nEDUCATION \\r\\n \\r\\nCourse\\rInstitute\\rBoard/University\\rYear \\rScore\\rArtificial Intelligence and Data Science Sem IV\\rVishwakarma Institute of Technology\\rAutonomous\\r2020 - Present\\r9.34\\r12th\\rNutan Junior College, Malkapur\\rState Board\\r2020\\r88%\\r10th\\rGovind Vishnu Mahajan Vidyalaya, Malkapur\\rState Board\\r2018\\r97%\\r\\r\\nSKILLS\\r\\nC/C++\\rPython\\rJava\\rDjango\\r\\r\\r    \\r\\r\\r\\r\\nINTERNSHIP\\r\\n\\r\\nAarshiti Group Web - Intern\\t\\t\\t\\t\\t\\t\\t\\t                 Sep ’21 – Jan’22\\r\\nPrototyped and developed a blogging website to share career-related opportunities using HTML, CSS, JavaScript, Django, SQLite\\r\\nCreated database and worked on the Database Modelling\\r\\n\\r\\nACADEMIC PROJECTS\\r\\n\\r\\nAR VR Research Project\\t\\t\\t\\t\\t\\t\\t\\t\\t\\tJun’ 21 to Aug’ 21\\r\\nResearched the use cases and advantages of using AR VR in domains like Education (Biology) and Military. Vaishnavi Narkhede                                                          \\r\\n\\r\\n Vaishnavi.narkhede20@vit.edu |   +91-9356188686 |   Pune, India |  Profile Link | \\r\\n\\t\\t\\t\\t\\r\\n\\r\\nEDUCATION \\r\\n \\r\\nCourse\\rInstitute\\rBoard/University\\rYear \\rScore\\rArtificial Intelligence and Data Science Sem IV\\rVishwakarma Institute of Technology\\rAutonomous\\r2020 - Present\\r9.34\\r12th\\rNutan Junior College, Malkapur\\rState Board\\r2020\\r88%\\r10th\\rGovind Vishnu Mahajan Vidyalaya, Malkapur\\rState Board\\r2018\\r97%\\r\\r\\nSKILLS\\r\\nC/C++\\rPython\\rJava\\rDjango\\r\\r\\r    \\r\\r\\r\\r\\nINTERNSHIP\\r\\n\\r\\nAarshiti Group Web - Intern\\t\\t\\t\\t\\t\\t\\t\\t                 Sep ’21 – Jan’22\\r\\nPrototyped and developed a blogging website to share career-related opportunities using HTML, CSS, JavaScript, Django, SQLite\\r\\nCreated database and worked on the Database Modelling\\r\\n\\r\\nACADEMIC PROJECTS\\r\\n\\r\\nAR VR Research Project\\t\\t\\t\\t\\t\\t\\t\\t\\t\\tJun’ 21 to Aug’ 21\\r\\nResearched the use cases and advantages of using AR VR in domains like Education (Biology) and Military. Zipper\\t\\t\\t\\t\\t\\t\\t\\t\\t                                          Sep’ 21 to Jan’ 21\\r\\nDeveloped a text compressor using Huffman coding, max heaps and priority queues \\r\\nIntegrated with Django for developing a web application for the ease of the user.'}, {'Question': 'Who taught 500+ women and senior citizens pan India to use apps like Google Pay, YouTube, MS Word, MS PowerPoint etc.?', 'Answer': 'college students', 'id': 2, 'context': 'Social Welfare and Development Committee\\t\\t\\t\\t\\t\\tAug ’16 – Present\\r\\nDesigned and developed a curriculum in 3 languages for a Digital Literacy program Aatmabodh, where college students taught 500+ women and senior citizens pan India to use apps like Google Pay, YouTube, MS Word, MS PowerPoint etc. VishwaSocial\\t\\t\\t\\t\\t\\t\\t\\t\\t                            Sep’ 21 to Present\\r\\nDeveloping a collaborative learning platform for college students, teachers, and alumni to network, learn new skills, and exchange opportunities. Planned, organized and moderated an event, where college alumni shared their professional journey and inspire college students to encash better career opportunities.'}, {'Question': 'What is the year of the Vishwakarma Institute of Technology Autonomous 2020 - Present?', 'Answer': 'sep', 'id': 3, 'context': 'Vaishnavi Narkhede                                                          \\r\\n\\r\\n Vaishnavi.narkhede20@vit.edu |   +91-9356188686 |   Pune, India |  Profile Link | \\r\\n\\t\\t\\t\\t\\r\\n\\r\\nEDUCATION \\r\\n \\r\\nCourse\\rInstitute\\rBoard/University\\rYear \\rScore\\rArtificial Intelligence and Data Science Sem IV\\rVishwakarma Institute of Technology\\rAutonomous\\r2020 - Present\\r9.34\\r12th\\rNutan Junior College, Malkapur\\rState Board\\r2020\\r88%\\r10th\\rGovind Vishnu Mahajan Vidyalaya, Malkapur\\rState Board\\r2018\\r97%\\r\\r\\nSKILLS\\r\\nC/C++\\rPython\\rJava\\rDjango\\r\\r\\r    \\r\\r\\r\\r\\nINTERNSHIP\\r\\n\\r\\nAarshiti Group Web - Intern\\t\\t\\t\\t\\t\\t\\t\\t                 Sep ’21 – Jan’22\\r\\nPrototyped and developed a blogging website to share career-related opportunities using HTML, CSS, JavaScript, Django, SQLite\\r\\nCreated database and worked on the Database Modelling\\r\\n\\r\\nACADEMIC PROJECTS\\r\\n\\r\\nAR VR Research Project\\t\\t\\t\\t\\t\\t\\t\\t\\t\\tJun’ 21 to Aug’ 21\\r\\nResearched the use cases and advantages of using AR VR in domains like Education (Biology) and Military. Zipper\\t\\t\\t\\t\\t\\t\\t\\t\\t                                          Sep’ 21 to Jan’ 21\\r\\nDeveloped a text compressor using Huffman coding, max heaps and priority queues \\r\\nIntegrated with Django for developing a web application for the ease of the user. VishwaSocial\\t\\t\\t\\t\\t\\t\\t\\t\\t                            Sep’ 21 to Present\\r\\nDeveloping a collaborative learning platform for college students, teachers, and alumni to network, learn new skills, and exchange opportunities.'}]}\n"
     ]
    }
   ],
   "source": [
    "qg = main.QGen()\n",
    "output = qg.predict_shortq(payload)"
   ]
  },
  {
   "cell_type": "code",
   "execution_count": 11,
   "metadata": {},
   "outputs": [],
   "source": [
    "ques_list = []\n",
    "\n",
    "for i in output['questions']:\n",
    "    ques_list.append(i['Question'])"
   ]
  },
  {
   "cell_type": "code",
   "execution_count": 12,
   "metadata": {},
   "outputs": [
    {
     "name": "stdout",
     "output_type": "stream",
     "text": [
      "ques:  What is the best tool to develop a text compressor using?\n",
      "\n",
      "ques:  Who taught 500+ women and senior citizens pan India to use apps like Google Pay, YouTube, MS Word, MS PowerPoint etc.?\n",
      "\n",
      "ques:  What is the year of the Vishwakarma Institute of Technology Autonomous 2020 - Present?\n",
      "\n"
     ]
    }
   ],
   "source": [
    "for i in range(len(ques_list)):\n",
    "    print(\"ques: \",ques_list[i])\n",
    "    print()"
   ]
  }
 ],
 "metadata": {
  "kernelspec": {
   "display_name": "Python 3.7.3 ('OKLB_EVN': venv)",
   "language": "python",
   "name": "python3"
  },
  "language_info": {
   "codemirror_mode": {
    "name": "ipython",
    "version": 3
   },
   "file_extension": ".py",
   "mimetype": "text/x-python",
   "name": "python",
   "nbconvert_exporter": "python",
   "pygments_lexer": "ipython3",
   "version": "3.7.3"
  },
  "orig_nbformat": 4,
  "vscode": {
   "interpreter": {
    "hash": "ab9c5b8c8eb72cf9c87ded10c3e07204bfa944f060751a931182f72c4c3618ec"
   }
  }
 },
 "nbformat": 4,
 "nbformat_minor": 2
}
