{
 "cells": [
  {
   "cell_type": "code",
   "execution_count": null,
   "metadata": {},
   "outputs": [],
   "source": [
    "# company specifies the requirements\n",
    " # skills\n",
    " # total number of employees requred\n",
    "# ranking the resumes according to the skills requirements\n",
    "# send them all video interview link via email\n",
    "# scrape the resume\n",
    "# make technical questions and answer\n",
    "# select questions from a DB according to the skills requirements\n",
    "# make HR questions and answer\n",
    "# select HR questions from a DB\n",
    "# ask questions from a DB in 2 rounds with deepfake\n",
    "# record the questions and answer\n",
    "# give a score to each question and make total of the assessment"
   ]
  },
  {
   "cell_type": "code",
   "execution_count": null,
   "metadata": {},
   "outputs": [],
   "source": []
  }
 ],
 "metadata": {
  "kernelspec": {
   "display_name": "Python 3.7.3 ('OKLB_EVN': venv)",
   "language": "python",
   "name": "python3"
  },
  "language_info": {
   "name": "python",
   "version": "3.7.3"
  },
  "orig_nbformat": 4,
  "vscode": {
   "interpreter": {
    "hash": "ab9c5b8c8eb72cf9c87ded10c3e07204bfa944f060751a931182f72c4c3618ec"
   }
  }
 },
 "nbformat": 4,
 "nbformat_minor": 2
}
