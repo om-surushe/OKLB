{
 "cells": [
  {
   "cell_type": "markdown",
   "metadata": {},
   "source": [
    "# Getting the Data"
   ]
  },
  {
   "cell_type": "markdown",
   "metadata": {},
   "source": [
    "# importing the packages"
   ]
  },
  {
   "cell_type": "code",
   "execution_count": 245,
   "metadata": {},
   "outputs": [],
   "source": [
    "import aspose.words as aw\n",
    "import spacy\n",
    "import csv\n",
    "import random"
   ]
  },
  {
   "cell_type": "markdown",
   "metadata": {},
   "source": [
    "# Load the PDF document from the disc."
   ]
  },
  {
   "cell_type": "code",
   "execution_count": 246,
   "metadata": {},
   "outputs": [],
   "source": [
    "doc = aw.Document(\"./r2.docx\")"
   ]
  },
  {
   "cell_type": "markdown",
   "metadata": {},
   "source": [
    "# Getting the data"
   ]
  },
  {
   "cell_type": "code",
   "execution_count": 247,
   "metadata": {},
   "outputs": [],
   "source": [
    "resume = doc.to_string(aw.SaveFormat.TEXT)\n",
    "resume = resume.replace(\"Evaluation Only. Created with Aspose.Words. Copyright 2003-2022 Aspose Pty Ltd.\",'')\n",
    "resume = resume.replace(\"Created with an evaluation copy of Aspose.Words. To discover the full versions of our APIs please visit: https://products.aspose.com/words/\",'')\n",
    "resume = resume.strip()"
   ]
  },
  {
   "cell_type": "code",
   "execution_count": 248,
   "metadata": {},
   "outputs": [],
   "source": [
    "# nlp = spacy.load(\"en_core_web_lg\")\n",
    "nlp = spacy.load(\"en_core_web_md\")"
   ]
  },
  {
   "cell_type": "code",
   "execution_count": 249,
   "metadata": {},
   "outputs": [
    {
     "name": "stdout",
     "output_type": "stream",
     "text": [
      "['24. Tell me about a time when you were forced to make an unpopular decision.\\n', 'Not every decision is popular. In fact, almost every decision is bound to make someone unhappy at some point. The key is to demonstrate how it impacted others positively and why you chose it.\\n']\n",
      "\n",
      "['221. Do you know anyone working with this organization?\\n', 'It would be great if you did - then you could potentially use them as a referral if they thought highly of you.\\n']\n",
      "\n",
      "[\"385. What do you do when you're having trouble with an employee?\\n\", 'You need to discuss the issue openly with the employee to come to a resolution.\\n']\n",
      "\n",
      "['394. I have a customer list of 10,000 businesses. Describe to me how you would create 1,000 marketing impressions from that list.\\n', 'Think of the different marketing campaigns you could run through direct marketing (TV, radio, newspapers/magazines), digital formats, social marketing, viral marketing and so forth.\\n']\n",
      "\n"
     ]
    }
   ],
   "source": [
    "total = []\n",
    "\n",
    "with open(\"./type1.csv\", 'r') as file:\n",
    "    csvreader = list(csv.reader(file))\n",
    "    total.append(csvreader[random.randint(0,len(csvreader)-1)])\n",
    "with open(\"./type2.csv\", 'r') as file:\n",
    "    csvreader = list(csv.reader(file))\n",
    "    total.append(csvreader[random.randint(0,len(csvreader)-1)])\n",
    "with open(\"./type3.csv\", 'r') as file:\n",
    "    csvreader = list(csv.reader(file))\n",
    "    total.append(csvreader[random.randint(0,len(csvreader)-1)])\n",
    "with open(\"./type4.csv\", 'r') as file:\n",
    "    csvreader = list(csv.reader(file))\n",
    "    total.append(csvreader[random.randint(0,len(csvreader)-1)])\n",
    "\n",
    "for row in total:\n",
    "    print(row)\n",
    "    print()"
   ]
  },
  {
   "cell_type": "code",
   "execution_count": 250,
   "metadata": {},
   "outputs": [],
   "source": [
    "ans_res = []\n",
    "res = [\n",
    "    \"Example stories could be a class project, an internal meeting presentation, or a customer facing presentation.\\n\",\n",
    "\n",
    "\"Don't say anything bad about the company. Did you like your job and you didn't want to move up? Did your company have a tight budget and rarely gave increases to anyone? Was your rank level a broad range so that you really did move within it, but on paper it isn't as noticeable?\\n\",\n",
    "\n",
    "\"Discuss the specific software that you use that pertains to your vertical. For example, you would use CAD in design.\\n\",\n",
    "\n",
    "\"Take the time to visualize the shoe first. Then as you go through the process make sure you describe it step by step in great detail.\\n\"]\n",
    "\n",
    "for i in range(len(total)):\n",
    "    ans_res.append([nlp(total[i][1]),nlp(res[i])])"
   ]
  },
  {
   "cell_type": "code",
   "execution_count": 251,
   "metadata": {},
   "outputs": [
    {
     "name": "stdout",
     "output_type": "stream",
     "text": [
      "0.7980128049820988\n",
      "0.9107370463998985\n",
      "0.8624054845357955\n",
      "0.6748609009100949\n"
     ]
    }
   ],
   "source": [
    "for i in range(len(ans_res)):\n",
    "    print(ans_res[i][0].similarity(ans_res[i][1]))"
   ]
  }
 ],
 "metadata": {
  "kernelspec": {
   "display_name": "Python 3.7.3 ('OKLB_EVN': venv)",
   "language": "python",
   "name": "python3"
  },
  "language_info": {
   "codemirror_mode": {
    "name": "ipython",
    "version": 3
   },
   "file_extension": ".py",
   "mimetype": "text/x-python",
   "name": "python",
   "nbconvert_exporter": "python",
   "pygments_lexer": "ipython3",
   "version": "3.7.3"
  },
  "orig_nbformat": 4,
  "vscode": {
   "interpreter": {
    "hash": "ab9c5b8c8eb72cf9c87ded10c3e07204bfa944f060751a931182f72c4c3618ec"
   }
  }
 },
 "nbformat": 4,
 "nbformat_minor": 2
}
