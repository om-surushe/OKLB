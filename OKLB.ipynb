{
 "cells": [
  {
   "cell_type": "markdown",
   "metadata": {},
   "source": [
    "# Getting the Data"
   ]
  },
  {
   "cell_type": "markdown",
   "metadata": {},
   "source": [
    "# importing the packages"
   ]
  },
  {
   "cell_type": "code",
   "execution_count": 10,
   "metadata": {},
   "outputs": [],
   "source": [
    "import aspose.words as aw"
   ]
  },
  {
   "cell_type": "markdown",
   "metadata": {},
   "source": [
    "# Load the PDF document from the disc."
   ]
  },
  {
   "cell_type": "code",
   "execution_count": 11,
   "metadata": {},
   "outputs": [],
   "source": [
    "doc = aw.Document(\"./r2.docx\")"
   ]
  },
  {
   "cell_type": "markdown",
   "metadata": {},
   "source": [
    "# Getting the data"
   ]
  },
  {
   "cell_type": "code",
   "execution_count": 12,
   "metadata": {},
   "outputs": [
    {
     "name": "stdout",
     "output_type": "stream",
     "text": [
      "Vaishnavi Narkhede                                                          \n",
      "\n",
      " Vaishnavi.narkhede20@vit.edu |   +91-9356188686 |   Pune, India |  Profile Link | \n",
      "\t\t\t\t\n",
      "\n",
      "EDUCATION \n",
      " \n",
      "97%8e Boardnu Mahajan Vidyalaya, MalkapurSem IV\n",
      "SKILLS\n",
      "    go\n",
      "INTERNSHIP\n",
      "\n",
      "Aarshiti Group Web - Intern\t\t\t\t\t\t\t\t                 Sep ’21 – Jan’22\n",
      "Prototyped and developed a blogging website to share career-related opportunities using HTML, CSS, JavaScript, Django, SQLite\n",
      "Created database and worked on the Database Modelling\n",
      "\n",
      "ACADEMIC PROJECTS\n",
      "\n",
      "AR VR Research Project\t\t\t\t\t\t\t\t\t\tJun’ 21 to Aug’ 21\n",
      "Researched the use cases and advantages of using AR VR in domains like Education (Biology) and Military.\n",
      "Published the research paper in IJSART - Volume 7 Issue 11, November 2021.\n",
      "VishwaSocial\t\t\t\t\t\t\t\t\t                            Sep’ 21 to Present\n",
      "Developing a collaborative learning platform for college students, teachers, and alumni to network, learn new skills, and exchange opportunities.\n",
      "Tech – Stack: Developed a web application using HTML, CSS, JavaScript, and Django for the backend.\n",
      "Soul Space\t\t\t\t\t\t\t\t\t                            Sep’ 21 to Jan’ 2022\n",
      "Developed a web app to help youngsters understand their mental health and take actions to nuetrakkuze their mood and feel better.\n",
      "Tech – Stack: Developed a web application using HTML, CSS, JavaScript, and Django for the backend.\n",
      " Zipper\t\t\t\t\t\t\t\t\t                                          Sep’ 21 to Jan’ 21\n",
      "Developed a text compressor using Huffman coding, max heaps and priority queues \n",
      "Integrated with Django for developing a web application for the ease of the user.\n",
      "\n",
      "CO-CURRICULAR ACTIVITIES \n",
      "\n",
      "ACR: First Year.\n",
      "Quiz Activity Head: This is the initiative taken by me to provide MCQs on every topic particularly for python subjects. Under the guidance of Pinki Agarwal mam. It helps all the students of the class as well as of other divisions.\n",
      "Codzest Competition: Ranked 14. The coding competition held by IEEE. Received the certificate of participation.\n",
      "Avenir: Web Development Competition. This is the competition held by IEEE. We have given one topic on which we have to develop a website. Received the certificate of appreciation.\n",
      "\n",
      "POSITION OF RESPONSIBILITIES\n",
      "Abhivriddi – Student Training and Development Cell, VIT Pune\t\t\t\tAug’ 15 – Present\n",
      "Organized, planned & managed Mock Group Discussion & Personal Interview Program, an event with a footfall of 50+ students & 10+ industry experts which aims to provide a real-time experience of the campus recruitment process to third-year students.\n",
      "Drafted and assisted in making detailed reports of 5+ student training and development events. \n",
      "Social Welfare and Development Committee\t\t\t\t\t\tAug ’16 – Present\n",
      "Designed and developed a curriculum in 3 languages for a Digital Literacy program Aatmabodh, where college students taught 500+ women and senior citizens pan India to use apps like Google Pay, YouTube, MS Word, MS PowerPoint etc.\n",
      "Led a team of 9 volunteers who spread awareness about self-safety measures to 60+ individuals.\n",
      "Diva – Women Empowerment \t\t\t\t\t                                            Aug ’12 – Present\n",
      "Designed 20+ graphic posters and flyers for Women Empowerment and related events using Canva.\n",
      "Planned, organized and moderated an event, where college alumni shared their professional journey and inspire college students to encash better career opportunities.\n",
      "HOBBIES & INTERESTS\n",
      "Eassy Writing\n",
      "Painting\n",
      "Listening the music\n"
     ]
    }
   ],
   "source": [
    "resume = doc.to_string(aw.SaveFormat.TEXT)\n",
    "resume = resume.replace(\"Evaluation Only. Created with Aspose.Words. Copyright 2003-2022 Aspose Pty Ltd.\",'')\n",
    "resume = resume.replace(\"Created with an evaluation copy of Aspose.Words. To discover the full versions of our APIs please visit: https://products.aspose.com/words/\",'')\n",
    "resume = resume.strip()\n",
    "print(resume)"
   ]
  },
  {
   "cell_type": "code",
   "execution_count": 13,
   "metadata": {},
   "outputs": [],
   "source": [
    "import spacy"
   ]
  },
  {
   "cell_type": "code",
   "execution_count": 14,
   "metadata": {},
   "outputs": [],
   "source": [
    "# nlp = spacy.load(\"en_core_web_lg\")\n",
    "nlp = spacy.load(\"en_core_web_md\")"
   ]
  },
  {
   "cell_type": "code",
   "execution_count": 15,
   "metadata": {},
   "outputs": [
    {
     "name": "stdout",
     "output_type": "stream",
     "text": [
      "0.33037955852045287\n",
      "0.9659811991772382\n",
      "0.23703898811033788\n"
     ]
    }
   ],
   "source": [
    "doc1 = nlp(u'the person wear red T-shirt')\n",
    "doc2 = nlp(u'this person is walking')\n",
    "doc3 = nlp(u'the boy wear red T-shirt')"
   ]
  },
  {
   "cell_type": "code",
   "execution_count": 16,
   "metadata": {},
   "outputs": [
    {
     "name": "stdout",
     "output_type": "stream",
     "text": [
      "0.33037955852045287\n",
      "0.9659811991772382\n",
      "0.23703898811033788\n"
     ]
    }
   ],
   "source": [
    "print(doc1.similarity(doc2)) \n",
    "print(doc1.similarity(doc3))\n",
    "print(doc2.similarity(doc3)) "
   ]
  }
 ],
 "metadata": {
  "kernelspec": {
   "display_name": "Python 3.7.3 ('OKLB_EVN': venv)",
   "language": "python",
   "name": "python3"
  },
  "language_info": {
   "codemirror_mode": {
    "name": "ipython",
    "version": 3
   },
   "file_extension": ".py",
   "mimetype": "text/x-python",
   "name": "python",
   "nbconvert_exporter": "python",
   "pygments_lexer": "ipython3",
   "version": "3.7.3"
  },
  "orig_nbformat": 4,
  "vscode": {
   "interpreter": {
    "hash": "ab9c5b8c8eb72cf9c87ded10c3e07204bfa944f060751a931182f72c4c3618ec"
   }
  }
 },
 "nbformat": 4,
 "nbformat_minor": 2
}
