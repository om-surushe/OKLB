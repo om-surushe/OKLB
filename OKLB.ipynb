{
 "cells": [
  {
   "cell_type": "markdown",
   "metadata": {},
   "source": [
    "# Getting the Data"
   ]
  },
  {
   "cell_type": "markdown",
   "metadata": {},
   "source": [
    "# importing the packages"
   ]
  },
  {
   "cell_type": "code",
   "execution_count": 200,
   "metadata": {},
   "outputs": [],
   "source": [
    "import aspose.words as aw\n",
    "import spacy\n",
    "import csv\n",
    "import random"
   ]
  },
  {
   "cell_type": "markdown",
   "metadata": {},
   "source": [
    "# Load the PDF document from the disc."
   ]
  },
  {
   "cell_type": "code",
   "execution_count": 201,
   "metadata": {},
   "outputs": [],
   "source": [
    "doc = aw.Document(\"./r2.docx\")"
   ]
  },
  {
   "cell_type": "markdown",
   "metadata": {},
   "source": [
    "# Getting the data"
   ]
  },
  {
   "cell_type": "code",
   "execution_count": 202,
   "metadata": {},
   "outputs": [],
   "source": [
    "resume = doc.to_string(aw.SaveFormat.TEXT)\n",
    "resume = resume.replace(\"Evaluation Only. Created with Aspose.Words. Copyright 2003-2022 Aspose Pty Ltd.\",'')\n",
    "resume = resume.replace(\"Created with an evaluation copy of Aspose.Words. To discover the full versions of our APIs please visit: https://products.aspose.com/words/\",'')\n",
    "resume = resume.strip()"
   ]
  },
  {
   "cell_type": "code",
   "execution_count": 203,
   "metadata": {},
   "outputs": [],
   "source": [
    "# nlp = spacy.load(\"en_core_web_lg\")\n",
    "nlp = spacy.load(\"en_core_web_md\")"
   ]
  },
  {
   "cell_type": "code",
   "execution_count": 204,
   "metadata": {},
   "outputs": [
    {
     "name": "stdout",
     "output_type": "stream",
     "text": [
      "[\"15. Tell me about a time when you had to use your presentation skills to influence someone's opinion.\\n\", 'Example stories could be a class project, an internal meeting presentation, or a customer facing presentation.\\n']\n",
      "\n",
      "['355. Your resume shows that you were with your last company for a number of years with limited increase in rank or salary. What can you tell me about this?\\n', \"Don't say anything bad about the company. Did you like your job and you didn't want to move up? Did your company have a tight budget and rarely gave increases to anyone? Was your rank level a broad range so that you really did move within it, but on paper it isn't as noticeable?\\n\"]\n",
      "\n",
      "['378. What software programs do you use most often in your current position?\\n', 'Discuss the specific software that you use that pertains to your vertical. For example, you would use CAD in design.\\n']\n",
      "\n",
      "['408. With your eyes closed, tell me step-by-step how to tie my shoes.\\n', 'Take the time to visualize the shoe first. Then as you go through the process make sure you describe it step by step in great detail.\\n']\n",
      "\n"
     ]
    }
   ],
   "source": [
    "total = []\n",
    "\n",
    "with open(\"./type1.csv\", 'r') as file:\n",
    "    csvreader = list(csv.reader(file))\n",
    "    total.append(csvreader[random.randint(0,len(csvreader)-1)])\n",
    "with open(\"./type2.csv\", 'r') as file:\n",
    "    csvreader = list(csv.reader(file))\n",
    "    total.append(csvreader[random.randint(0,len(csvreader)-1)])\n",
    "with open(\"./type3.csv\", 'r') as file:\n",
    "    csvreader = list(csv.reader(file))\n",
    "    total.append(csvreader[random.randint(0,len(csvreader)-1)])\n",
    "with open(\"./type4.csv\", 'r') as file:\n",
    "    csvreader = list(csv.reader(file))\n",
    "    total.append(csvreader[random.randint(0,len(csvreader)-1)])\n",
    "\n",
    "for row in total:\n",
    "    print(row)\n",
    "    print()"
   ]
  },
  {
   "cell_type": "code",
   "execution_count": 205,
   "metadata": {},
   "outputs": [],
   "source": [
    "doc1 = nlp(u'the person wear red T-shirt')\n",
    "doc2 = nlp(u'this person is walking')\n",
    "doc3 = nlp(u'the boy wear red T-shirt')"
   ]
  },
  {
   "cell_type": "code",
   "execution_count": 206,
   "metadata": {},
   "outputs": [
    {
     "name": "stdout",
     "output_type": "stream",
     "text": [
      "0.33037955852045287\n",
      "0.9659811991772382\n",
      "0.23703898811033788\n"
     ]
    }
   ],
   "source": [
    "print(doc1.similarity(doc2)) \n",
    "print(doc1.similarity(doc3))\n",
    "print(doc2.similarity(doc3)) "
   ]
  }
 ],
 "metadata": {
  "kernelspec": {
   "display_name": "Python 3.7.3 ('OKLB_EVN': venv)",
   "language": "python",
   "name": "python3"
  },
  "language_info": {
   "codemirror_mode": {
    "name": "ipython",
    "version": 3
   },
   "file_extension": ".py",
   "mimetype": "text/x-python",
   "name": "python",
   "nbconvert_exporter": "python",
   "pygments_lexer": "ipython3",
   "version": "3.7.3"
  },
  "orig_nbformat": 4,
  "vscode": {
   "interpreter": {
    "hash": "ab9c5b8c8eb72cf9c87ded10c3e07204bfa944f060751a931182f72c4c3618ec"
   }
  }
 },
 "nbformat": 4,
 "nbformat_minor": 2
}
