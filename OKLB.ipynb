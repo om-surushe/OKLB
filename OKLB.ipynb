{
 "cells": [
  {
   "cell_type": "markdown",
   "metadata": {},
   "source": [
    "# Getting the Data"
   ]
  },
  {
   "cell_type": "markdown",
   "metadata": {},
   "source": [
    "# importing the packages"
   ]
  },
  {
   "cell_type": "code",
   "execution_count": 30,
   "metadata": {},
   "outputs": [],
   "source": [
    "import aspose.words as aw\n",
    "import spacy\n",
    "import csv\n",
    "import random"
   ]
  },
  {
   "cell_type": "markdown",
   "metadata": {},
   "source": [
    "# Load the PDF document from the disc."
   ]
  },
  {
   "cell_type": "code",
   "execution_count": 31,
   "metadata": {},
   "outputs": [],
   "source": [
    "doc = aw.Document(\"./r2.docx\")"
   ]
  },
  {
   "cell_type": "markdown",
   "metadata": {},
   "source": [
    "# Getting the data"
   ]
  },
  {
   "cell_type": "code",
   "execution_count": 32,
   "metadata": {},
   "outputs": [],
   "source": [
    "resume = doc.to_string(aw.SaveFormat.TEXT)\n",
    "resume = resume.replace(\"Evaluation Only. Created with Aspose.Words. Copyright 2003-2022 Aspose Pty Ltd.\",'')\n",
    "resume = resume.replace(\"Created with an evaluation copy of Aspose.Words. To discover the full versions of our APIs please visit: https://products.aspose.com/words/\",'')\n",
    "resume = resume.strip()"
   ]
  },
  {
   "cell_type": "code",
   "execution_count": 33,
   "metadata": {},
   "outputs": [],
   "source": [
    "# nlp = spacy.load(\"en_core_web_lg\")\n",
    "nlp = spacy.load(\"en_core_web_md\")"
   ]
  },
  {
   "cell_type": "code",
   "execution_count": 34,
   "metadata": {},
   "outputs": [
    {
     "name": "stdout",
     "output_type": "stream",
     "text": [
      "['26. Describe your work style.\\n', 'Describe the positive aspects of your work style if possible, including: work ethic, attention to detail, interpersonal skills, skill sets (analytical or otherwise), leadership abilities, communication skills.\\n']\n",
      "\n",
      "['28. What is your biggest fear?\\n', \"Don't try to sugarcoat the answer by listing something ambitious as a fear, unless you truly mean it (for example: I fear being a great leader) - Share your real fears but discuss how you would overcome them.\\n\"]\n",
      "\n",
      "['386. What type of supervisory training have you completed in the last two years?\\n', \"You could discuss training from a mentor/current supervisor. You could discuss management classes you've taken. You could discuss management books you've read.\\n\"]\n",
      "\n",
      "['398. Estimate the total number of chairs in the United States.\\n', 'Take your time, and ask questions to narrow down the choices. Is this just households (for example)? If yes, logically think through the steps: the US population is an estimated 307 million. Assuming there are about 112 million households out there, that works out to about 3 people per household (just under). The average house probably has a dining area and an office room. Assuming there are an average of 4 chairs total amongst both rooms, you can begin to estimate the \"\"household\"\" demand for chairs by working backwards from there. 3 people x 4 chairs = 12 x 112M householders = 1,334M chairs\\n']\n",
      "\n"
     ]
    }
   ],
   "source": [
    "total = []\n",
    "\n",
    "with open(\"./type1.csv\", 'r') as file:\n",
    "    csvreader = list(csv.reader(file))\n",
    "    total.append(csvreader[random.randint(0,len(csvreader)-1)])\n",
    "with open(\"./type2.csv\", 'r') as file:\n",
    "    csvreader = list(csv.reader(file))\n",
    "    total.append(csvreader[random.randint(0,len(csvreader)-1)])\n",
    "with open(\"./type3.csv\", 'r') as file:\n",
    "    csvreader = list(csv.reader(file))\n",
    "    total.append(csvreader[random.randint(0,len(csvreader)-1)])\n",
    "with open(\"./type4.csv\", 'r') as file:\n",
    "    csvreader = list(csv.reader(file))\n",
    "    total.append(csvreader[random.randint(0,len(csvreader)-1)])\n",
    "\n",
    "for row in total:\n",
    "    print(row)\n",
    "    print()"
   ]
  },
  {
   "cell_type": "code",
   "execution_count": 35,
   "metadata": {},
   "outputs": [],
   "source": [
    "ans_res = []\n",
    "res = [\n",
    "    \"Example stories could be a class project, an internal meeting presentation, or a customer facing presentation.\\n\",\n",
    "\n",
    "\"Don't say anything bad about the company. Did you like your job and you didn't want to move up? Did your company have a tight budget and rarely gave increases to anyone? Was your rank level a broad range so that you really did move within it, but on paper it isn't as noticeable?\\n\",\n",
    "\n",
    "\"Discuss the specific software that you use that pertains to your vertical. For example, you would use CAD in design.\\n\",\n",
    "\n",
    "\"Take the time to visualize the shoe first. Then as you go through the process make sure you describe it step by step in great detail.\\n\"]\n",
    "\n",
    "for i in range(len(total)):\n",
    "    ans_res.append([nlp(total[i][1]),nlp(res[i])])"
   ]
  },
  {
   "cell_type": "code",
   "execution_count": 36,
   "metadata": {},
   "outputs": [
    {
     "name": "stdout",
     "output_type": "stream",
     "text": [
      "0.8357182251775919\n",
      "0.9045327173689899\n",
      "0.8370282592773101\n",
      "0.7571004082459373\n"
     ]
    }
   ],
   "source": [
    "for i in range(len(ans_res)):\n",
    "    print(ans_res[i][0].similarity(ans_res[i][1]))"
   ]
  },
  {
   "cell_type": "code",
   "execution_count": 37,
   "metadata": {},
   "outputs": [],
   "source": [
    "from pprint import pprint\n",
    "from Questgen import main"
   ]
  },
  {
   "cell_type": "code",
   "execution_count": 38,
   "metadata": {},
   "outputs": [],
   "source": [
    "payload = {\n",
    "            \"input_text\": resume\n",
    "        }"
   ]
  },
  {
   "cell_type": "code",
   "execution_count": 39,
   "metadata": {},
   "outputs": [
    {
     "name": "stderr",
     "output_type": "stream",
     "text": [
      "Token indices sequence length is longer than the specified maximum sequence length for this model (535 > 512). Running this sequence through the model will result in indexing errors\n"
     ]
    },
    {
     "name": "stdout",
     "output_type": "stream",
     "text": [
      "Running model for generation\n",
      "{'questions': [{'Question': 'What is the best tool to develop a text compressor using?', 'Answer': 'django', 'id': 1, 'context': 'Vaishnavi Narkhede                                                          \\r\\n\\r\\n Vaishnavi.narkhede20@vit.edu |   +91-9356188686 |   Pune, India |  Profile Link | \\r\\n\\t\\t\\t\\t\\r\\n\\r\\nEDUCATION \\r\\n \\r\\nCourse\\rInstitute\\rBoard/University\\rYear \\rScore\\rArtificial Intelligence and Data Science Sem IV\\rVishwakarma Institute of Technology\\rAutonomous\\r2020 - Present\\r9.34\\r12th\\rNutan Junior College, Malkapur\\rState Board\\r2020\\r88%\\r10th\\rGovind Vishnu Mahajan Vidyalaya, Malkapur\\rState Board\\r2018\\r97%\\r\\r\\nSKILLS\\r\\nC/C++\\rPython\\rJava\\rDjango\\r\\r\\r    \\r\\r\\r\\r\\nINTERNSHIP\\r\\n\\r\\nAarshiti Group Web - Intern\\t\\t\\t\\t\\t\\t\\t\\t                 Sep ’21 – Jan’22\\r\\nPrototyped and developed a blogging website to share career-related opportunities using HTML, CSS, JavaScript, Django, SQLite\\r\\nCreated database and worked on the Database Modelling\\r\\n\\r\\nACADEMIC PROJECTS\\r\\n\\r\\nAR VR Research Project\\t\\t\\t\\t\\t\\t\\t\\t\\t\\tJun’ 21 to Aug’ 21\\r\\nResearched the use cases and advantages of using AR VR in domains like Education (Biology) and Military. Vaishnavi Narkhede                                                          \\r\\n\\r\\n Vaishnavi.narkhede20@vit.edu |   +91-9356188686 |   Pune, India |  Profile Link | \\r\\n\\t\\t\\t\\t\\r\\n\\r\\nEDUCATION \\r\\n \\r\\nCourse\\rInstitute\\rBoard/University\\rYear \\rScore\\rArtificial Intelligence and Data Science Sem IV\\rVishwakarma Institute of Technology\\rAutonomous\\r2020 - Present\\r9.34\\r12th\\rNutan Junior College, Malkapur\\rState Board\\r2020\\r88%\\r10th\\rGovind Vishnu Mahajan Vidyalaya, Malkapur\\rState Board\\r2018\\r97%\\r\\r\\nSKILLS\\r\\nC/C++\\rPython\\rJava\\rDjango\\r\\r\\r    \\r\\r\\r\\r\\nINTERNSHIP\\r\\n\\r\\nAarshiti Group Web - Intern\\t\\t\\t\\t\\t\\t\\t\\t                 Sep ’21 – Jan’22\\r\\nPrototyped and developed a blogging website to share career-related opportunities using HTML, CSS, JavaScript, Django, SQLite\\r\\nCreated database and worked on the Database Modelling\\r\\n\\r\\nACADEMIC PROJECTS\\r\\n\\r\\nAR VR Research Project\\t\\t\\t\\t\\t\\t\\t\\t\\t\\tJun’ 21 to Aug’ 21\\r\\nResearched the use cases and advantages of using AR VR in domains like Education (Biology) and Military. Zipper\\t\\t\\t\\t\\t\\t\\t\\t\\t                                          Sep’ 21 to Jan’ 21\\r\\nDeveloped a text compressor using Huffman coding, max heaps and priority queues \\r\\nIntegrated with Django for developing a web application for the ease of the user.'}, {'Question': 'Who taught 500+ women and senior citizens pan India to use apps like Google Pay, YouTube, MS Word, MS PowerPoint etc.?', 'Answer': 'college students', 'id': 2, 'context': 'Social Welfare and Development Committee\\t\\t\\t\\t\\t\\tAug ’16 – Present\\r\\nDesigned and developed a curriculum in 3 languages for a Digital Literacy program Aatmabodh, where college students taught 500+ women and senior citizens pan India to use apps like Google Pay, YouTube, MS Word, MS PowerPoint etc. VishwaSocial\\t\\t\\t\\t\\t\\t\\t\\t\\t                            Sep’ 21 to Present\\r\\nDeveloping a collaborative learning platform for college students, teachers, and alumni to network, learn new skills, and exchange opportunities. Planned, organized and moderated an event, where college alumni shared their professional journey and inspire college students to encash better career opportunities.'}, {'Question': 'What is the year of the Vishwakarma Institute of Technology Autonomous 2020 - Present?', 'Answer': 'sep', 'id': 3, 'context': 'Vaishnavi Narkhede                                                          \\r\\n\\r\\n Vaishnavi.narkhede20@vit.edu |   +91-9356188686 |   Pune, India |  Profile Link | \\r\\n\\t\\t\\t\\t\\r\\n\\r\\nEDUCATION \\r\\n \\r\\nCourse\\rInstitute\\rBoard/University\\rYear \\rScore\\rArtificial Intelligence and Data Science Sem IV\\rVishwakarma Institute of Technology\\rAutonomous\\r2020 - Present\\r9.34\\r12th\\rNutan Junior College, Malkapur\\rState Board\\r2020\\r88%\\r10th\\rGovind Vishnu Mahajan Vidyalaya, Malkapur\\rState Board\\r2018\\r97%\\r\\r\\nSKILLS\\r\\nC/C++\\rPython\\rJava\\rDjango\\r\\r\\r    \\r\\r\\r\\r\\nINTERNSHIP\\r\\n\\r\\nAarshiti Group Web - Intern\\t\\t\\t\\t\\t\\t\\t\\t                 Sep ’21 – Jan’22\\r\\nPrototyped and developed a blogging website to share career-related opportunities using HTML, CSS, JavaScript, Django, SQLite\\r\\nCreated database and worked on the Database Modelling\\r\\n\\r\\nACADEMIC PROJECTS\\r\\n\\r\\nAR VR Research Project\\t\\t\\t\\t\\t\\t\\t\\t\\t\\tJun’ 21 to Aug’ 21\\r\\nResearched the use cases and advantages of using AR VR in domains like Education (Biology) and Military. Zipper\\t\\t\\t\\t\\t\\t\\t\\t\\t                                          Sep’ 21 to Jan’ 21\\r\\nDeveloped a text compressor using Huffman coding, max heaps and priority queues \\r\\nIntegrated with Django for developing a web application for the ease of the user. VishwaSocial\\t\\t\\t\\t\\t\\t\\t\\t\\t                            Sep’ 21 to Present\\r\\nDeveloping a collaborative learning platform for college students, teachers, and alumni to network, learn new skills, and exchange opportunities.'}]}\n"
     ]
    }
   ],
   "source": [
    "qg = main.QGen()\n",
    "output = qg.predict_shortq(payload)"
   ]
  },
  {
   "cell_type": "code",
   "execution_count": 40,
   "metadata": {},
   "outputs": [],
   "source": [
    "ques_list = []\n",
    "\n",
    "for i in output['questions']:\n",
    "    ques_list.append(i['Question'])"
   ]
  },
  {
   "cell_type": "code",
   "execution_count": 41,
   "metadata": {},
   "outputs": [],
   "source": [
    "answer = main.AnswerPredictor()\n",
    "payload_ques = ''\n",
    "payload3 = {\n",
    "    \"input_text\" : resume,\n",
    "    \"input_question\" : payload_ques\n",
    "    \n",
    "}"
   ]
  },
  {
   "cell_type": "code",
   "execution_count": 43,
   "metadata": {},
   "outputs": [
    {
     "name": "stderr",
     "output_type": "stream",
     "text": [
      "Token indices sequence length is longer than the specified maximum sequence length for this model (885 > 512). Running this sequence through the model will result in indexing errors\n",
      "Token indices sequence length is longer than the specified maximum sequence length for this model (899 > 512). Running this sequence through the model will result in indexing errors\n",
      "Token indices sequence length is longer than the specified maximum sequence length for this model (893 > 512). Running this sequence through the model will result in indexing errors\n"
     ]
    }
   ],
   "source": [
    "ans_list = []\n",
    "\n",
    "for i in ques_list:\n",
    "    payload3['input_question'] = i\n",
    "    output = answer.predict_answer(payload3)\n",
    "    ans_list.append(output)"
   ]
  },
  {
   "cell_type": "code",
   "execution_count": 44,
   "metadata": {},
   "outputs": [
    {
     "name": "stdout",
     "output_type": "stream",
     "text": [
      "ques:  What is the best tool to develop a text compressor using?\n",
      "ans : Huffman coding, max heaps and priority queues integrated with django for developing a web application for the ease of the user.\n",
      "\n",
      "ques:  Who taught 500+ women and senior citizens pan India to use apps like Google Pay, YouTube, MS Word, MS PowerPoint etc.?\n",
      "ans : Aatmabodh\n",
      "\n",
      "ques:  What is the year of the Vishwakarma Institute of Technology Autonomous 2020 - Present?\n",
      "ans : Vishwakarma institute of technology autonomous 2020 is the year of the vishwakarma institute of technology autonomous 2020.\n",
      "\n"
     ]
    }
   ],
   "source": [
    "for i in range(len(ques_list)):\n",
    "    print(\"ques: \",ques_list[i])\n",
    "    print(\"ans :\",ans_list[i])\n",
    "    print()"
   ]
  }
 ],
 "metadata": {
  "kernelspec": {
   "display_name": "Python 3.7.3 ('OKLB_EVN': venv)",
   "language": "python",
   "name": "python3"
  },
  "language_info": {
   "codemirror_mode": {
    "name": "ipython",
    "version": 3
   },
   "file_extension": ".py",
   "mimetype": "text/x-python",
   "name": "python",
   "nbconvert_exporter": "python",
   "pygments_lexer": "ipython3",
   "version": "3.7.3"
  },
  "orig_nbformat": 4,
  "vscode": {
   "interpreter": {
    "hash": "ab9c5b8c8eb72cf9c87ded10c3e07204bfa944f060751a931182f72c4c3618ec"
   }
  }
 },
 "nbformat": 4,
 "nbformat_minor": 2
}
