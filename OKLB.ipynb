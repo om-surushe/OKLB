{
 "cells": [
  {
   "cell_type": "markdown",
   "metadata": {},
   "source": [
    "# Getting the Data"
   ]
  },
  {
   "cell_type": "markdown",
   "metadata": {},
   "source": [
    "# importing the packages"
   ]
  },
  {
   "cell_type": "code",
   "execution_count": 29,
   "metadata": {},
   "outputs": [],
   "source": [
    "import aspose.words as aw"
   ]
  },
  {
   "cell_type": "markdown",
   "metadata": {},
   "source": [
    "# Load the PDF document from the disc."
   ]
  },
  {
   "cell_type": "code",
   "execution_count": 32,
   "metadata": {},
   "outputs": [],
   "source": [
    "doc = aw.Document(\"./Om_Surushe_CV.pdf\")"
   ]
  },
  {
   "cell_type": "markdown",
   "metadata": {},
   "source": [
    "# Getting the data"
   ]
  },
  {
   "cell_type": "code",
   "execution_count": 33,
   "metadata": {},
   "outputs": [
    {
     "name": "stdout",
     "output_type": "stream",
     "text": [
      "Om Surushe\n",
      "Pune, Maharashtra, India •+91-9322699165 • LinkedIn / Github Profile • Email: om.surushe20@vit.edu\n",
      "Education\n",
      "Vishwakarma Institute of Technology\n",
      "Senior, GPA: 8.85/10.0 B.Tech. Artificial Intelligence and Data Science Graduation Year: 2024\n",
      "Relevant Coursework: Full Stack Development, Data Mining(college), Python, DBMS, Data Structures in C++(college), Java, Flutter.\n",
      "Skills: Web Development, Mobile App Development, DBMS, Team Management, Excellent Communication Skills,\n",
      "Projects Management, Problem Solving. Projects\n",
      "Developer, MoneyFlow July 2022\n",
      "● Developed Personal finance solution.\n",
      "● Developed the whole application (frontend/backend).\n",
      "● Link to the project: MoneyFlow\n",
      "Developer, Intelligent Helmet July 2022\n",
      "● Developed a smart helmet for miners to save lives from explosions in mines.\n",
      "● Developed it using MQ2(gas sensor), DHT11(temp and humidity), NodeMcu, and ThinkSpeak.\n",
      "● Link to the project: Intelligent Hemet\n",
      "Work Experience\n",
      "Aarshiti Group\n",
      "Web Development Intern Sept 2021 – Jan 2021\n",
      "● Developed a solution for E-commerce and Scholarship Distribution.\n",
      "● I developed a single-page checkout system for a greater conversion rate.\n",
      "● I learned to develop according to the problem and how to manage a team.\n",
      "Leadership Experience\n",
      "Group Leader, Vishwa Connect(EDI) Feb 2022 - July 2022\n",
      "● Developing a collaborative learning platform for college students, teachers, and alumni to network, learn new skills, and exchange opportunities\n",
      "● Developed the whole application (frontend/backend).\n",
      "● Link to the project: Vishwa Connect\n",
      "Extra-Curricular Experience\n",
      "Developer, Trident Labs Jun ’21 – Present\n",
      "● Developing algorithms in Python and C++ for efficient interaction between the software and hardware of an Autonomous Underwater Vehicle.\n",
      "● Working on Robot Operating System (ROS), processing information, data processing, etc.\n",
      "Developer, Social Welfare and Development Committee Aug ’21 – Present\n",
      "● Designed and developed a curriculum in 3 languages for a Digital Literacy program Aatmabodh, where college students taught 500+ women and senior citizens pan India to use apps like Google Pay, YouTube, MS Word, MS PowerPoint, etc.\n",
      "● Created a responsive website using HTML, CSS, JavaScript, and PHP to showcase projects and initiatives that solve social problems\n"
     ]
    }
   ],
   "source": [
    "resume = doc.to_string(aw.SaveFormat.TEXT)\n",
    "resume = resume.replace(\"Evaluation Only. Created with Aspose.Words. Copyright 2003-2022 Aspose Pty Ltd.\",'')\n",
    "resume = resume.replace(\"Created with an evaluation copy of Aspose.Words. To discover the full versions of our APIs please visit: https://products.aspose.com/words/\",'')\n",
    "resume = resume.strip()\n",
    "print(resume)"
   ]
  }
 ],
 "metadata": {
  "kernelspec": {
   "display_name": "Python 3.7.3 ('OKLB-Env': venv)",
   "language": "python",
   "name": "python3"
  },
  "language_info": {
   "codemirror_mode": {
    "name": "ipython",
    "version": 3
   },
   "file_extension": ".py",
   "mimetype": "text/x-python",
   "name": "python",
   "nbconvert_exporter": "python",
   "pygments_lexer": "ipython3",
   "version": "3.7.3"
  },
  "orig_nbformat": 4,
  "vscode": {
   "interpreter": {
    "hash": "4b7fc3ce8c45d76311221873b98802e3654a0867c7bd1fb5dd6c30b41cb7fd3c"
   }
  }
 },
 "nbformat": 4,
 "nbformat_minor": 2
}
